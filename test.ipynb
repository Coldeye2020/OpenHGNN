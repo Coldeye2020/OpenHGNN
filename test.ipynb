{
 "cells": [
  {
   "cell_type": "code",
   "execution_count": 22,
   "metadata": {},
   "outputs": [],
   "source": [
    "# from openhgnn.dataset.NodeClassificationDataset import HIN_NodeClassification\n",
    "from openhgnn.dataset import *"
   ]
  },
  {
   "cell_type": "code",
   "execution_count": 40,
   "metadata": {},
   "outputs": [
    {
     "name": "stdout",
     "output_type": "stream",
     "text": [
      "Done saving data into cached files.\n",
      "Done saving data into cached files.\n"
     ]
    }
   ],
   "source": [
    "raw_graph = AcademicDataset(\"acm4GTN\") \n",
    "dataset = HIN_NodeClassification(\"acm4GTN\")"
   ]
  },
  {
   "cell_type": "code",
   "execution_count": 66,
   "metadata": {},
   "outputs": [
    {
     "data": {
      "text/plain": "{'pspap_m2v_emb': tensor([[ 0.2707, -0.0292, -0.2201,  ...,  0.6001, -0.5417, -0.3715],\n        [-0.4712,  0.5865, -0.3766,  ...,  0.2642,  0.0726, -0.0603],\n        [-0.3630,  0.1676, -0.0014,  ...,  0.1475, -0.0387,  0.1448],\n        ...,\n        [ 0.1510, -0.3085, -0.1465,  ..., -0.1060,  0.1566, -0.1580],\n        [-0.3097,  0.3164,  0.2697,  ...,  0.6010, -0.3203, -0.0575],\n        [-0.2219,  0.5651,  0.4023,  ...,  0.5213, -0.2811,  0.2885]]), 'psp_m2v_emb': tensor([[-0.4633, -0.1987,  0.3247,  ..., -0.0739,  0.2704,  0.3113],\n        [ 0.0080, -0.6219,  0.0279,  ..., -0.2676, -0.0371,  0.3299],\n        [ 0.2037, -0.0023, -0.2465,  ...,  0.1678,  0.0565,  0.3301],\n        ...,\n        [-0.4605, -0.3739,  0.2122,  ..., -0.1100,  0.1112,  0.3276],\n        [-0.0577, -0.0728, -0.0053,  ..., -0.0068, -0.1038, -0.0986],\n        [ 0.0989, -0.0832, -0.0563,  ...,  0.1327, -0.0716, -0.0201]]), 'pap_m2v_emb': tensor([[ 4.5386e-02,  2.4113e-02, -1.1112e+00,  ..., -8.6198e-04,\n         -1.0493e-01,  2.2347e-01],\n        [ 5.2372e-01, -4.6557e-02,  1.4987e-01,  ...,  1.1497e-01,\n          1.2761e-01, -2.2666e-02],\n        [ 2.6156e-01,  1.0268e-01,  7.9706e-03,  ...,  3.1474e-01,\n         -1.4217e-01, -2.1420e-01],\n        ...,\n        [ 6.1984e-01, -1.9242e-01, -1.9396e-01,  ...,  2.7752e-01,\n         -1.5547e-01,  6.5293e-01],\n        [ 1.1169e-01,  5.1497e-02,  2.6359e-02,  ...,  1.0256e-01,\n         -4.1674e-01, -1.1941e-01],\n        [-1.7183e-01, -4.7655e-01, -6.5008e-02,  ..., -2.7590e-03,\n          1.2595e-01, -9.7120e-02]]), 'train_mask': tensor([0, 0, 0,  ..., 0, 0, 0], dtype=torch.uint8), 'test_mask': tensor([1, 1, 1,  ..., 1, 1, 1], dtype=torch.uint8), 'label': tensor([2, 2, 2,  ..., 2, 2, 2]), 'h': tensor([[1., 1., 1.,  ..., 0., 0., 0.],\n        [1., 1., 0.,  ..., 0., 0., 0.],\n        [1., 0., 0.,  ..., 0., 0., 0.],\n        ...,\n        [1., 0., 0.,  ..., 0., 0., 0.],\n        [1., 0., 0.,  ..., 0., 0., 0.],\n        [1., 0., 1.,  ..., 0., 0., 0.]]), 'valid_mask': tensor([0, 0, 0,  ..., 0, 0, 0], dtype=torch.uint8)}"
     },
     "execution_count": 66,
     "metadata": {},
     "output_type": "execute_result"
    }
   ],
   "source": [
    "dataset.g.nodes['paper'].data"
   ]
  },
  {
   "cell_type": "code",
   "execution_count": 38,
   "metadata": {},
   "outputs": [
    {
     "data": {
      "text/plain": "{}"
     },
     "execution_count": 38,
     "metadata": {},
     "output_type": "execute_result"
    }
   ],
   "source": [
    "dataset.g.edata[0]"
   ]
  },
  {
   "cell_type": "code",
   "execution_count": null,
   "metadata": {},
   "outputs": [],
   "source": []
  }
 ],
 "metadata": {
  "kernelspec": {
   "display_name": "Python 3.8.8 64-bit ('pytorch': conda)",
   "name": "python388jvsc74a57bd043ee2089df330b857fbd0e00a5b54544cf153f871618228681e6b365caa05fb3"
  },
  "language_info": {
   "codemirror_mode": {
    "name": "ipython",
    "version": 3
   },
   "file_extension": ".py",
   "mimetype": "text/x-python",
   "name": "python",
   "nbconvert_exporter": "python",
   "pygments_lexer": "ipython3",
   "version": "3.8.8"
  },
  "metadata": {
   "interpreter": {
    "hash": "43ee2089df330b857fbd0e00a5b54544cf153f871618228681e6b365caa05fb3"
   }
  },
  "orig_nbformat": 2
 },
 "nbformat": 4,
 "nbformat_minor": 2
}